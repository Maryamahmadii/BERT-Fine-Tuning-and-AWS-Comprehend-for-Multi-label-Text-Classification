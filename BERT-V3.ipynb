{
 "cells": [
  {
   "cell_type": "code",
   "execution_count": 8,
   "id": "8c1e50cb-3bb5-487c-becc-4a2a2079dac7",
   "metadata": {},
   "outputs": [],
   "source": [
    "#! pip install -q pytorch-lightning\n",
    "#! pip install -q bs4\n",
    "#! pip install -q transform"
   ]
  },
  {
   "cell_type": "code",
   "execution_count": 9,
   "id": "29f762b1-25d2-4b0f-921c-394d709c6a8e",
   "metadata": {},
   "outputs": [],
   "source": [
    "# Import all libraries\n",
    "import pandas as pd\n",
    "import numpy as np\n",
    "import re\n",
    "from dataset import PCDataset\n",
    "\n",
    "# Huggingface transformers\n",
    "import transformers\n",
    "from transformers import BertModel,BertTokenizer, get_linear_schedule_with_warmup\n",
    "\n",
    "import torch\n",
    "from torch import nn ,cuda\n",
    "from torch.utils.data import DataLoader,Dataset,RandomSampler, SequentialSampler\n",
    "from torch.optim import AdamW\n",
    "\n",
    "import pytorch_lightning as pl\n",
    "from pytorch_lightning.callbacks import ModelCheckpoint\n",
    "\n",
    "from sklearn.model_selection import train_test_split\n",
    "from sklearn.metrics import accuracy_score, precision_recall_fscore_support\n",
    "from sklearn.metrics import precision_score, recall_score, f1_score, accuracy_score\n",
    "\n",
    "#handling html data\n",
    "#from bs4 import BeautifulSoup\n",
    "\n",
    "import seaborn as sns\n",
    "from pylab import rcParams\n",
    "import matplotlib.pyplot as plt\n",
    "from matplotlib import rc\n",
    "%matplotlib inline\n",
    "from sklearn.preprocessing import MultiLabelBinarizer\n",
    "\n",
    "RANDOM_SEED = 42\n",
    "np.random.seed(RANDOM_SEED)\n",
    "torch.manual_seed(RANDOM_SEED)\n",
    "\n",
    "device = torch.device(\"cuda:0\" if torch.cuda.is_available() else \"cpu\")"
   ]
  },
  {
   "cell_type": "code",
   "execution_count": 10,
   "id": "f671af1e-09fc-4237-9d64-b97526ac0ed7",
   "metadata": {},
   "outputs": [
    {
     "data": {
      "text/html": [
       "<div>\n",
       "<style scoped>\n",
       "    .dataframe tbody tr th:only-of-type {\n",
       "        vertical-align: middle;\n",
       "    }\n",
       "\n",
       "    .dataframe tbody tr th {\n",
       "        vertical-align: top;\n",
       "    }\n",
       "\n",
       "    .dataframe thead th {\n",
       "        text-align: right;\n",
       "    }\n",
       "</style>\n",
       "<table border=\"1\" class=\"dataframe\">\n",
       "  <thead>\n",
       "    <tr style=\"text-align: right;\">\n",
       "      <th></th>\n",
       "      <th>Product Name</th>\n",
       "      <th>Audio &amp; Electronics</th>\n",
       "      <th>Automotive Tools</th>\n",
       "      <th>Body Parts</th>\n",
       "      <th>Exterior</th>\n",
       "      <th>Interior</th>\n",
       "      <th>Lighting</th>\n",
       "      <th>Parts</th>\n",
       "    </tr>\n",
       "  </thead>\n",
       "  <tbody>\n",
       "    <tr>\n",
       "      <th>0</th>\n",
       "      <td>\"8 468\" Emblems</td>\n",
       "      <td>0</td>\n",
       "      <td>0</td>\n",
       "      <td>1</td>\n",
       "      <td>1</td>\n",
       "      <td>0</td>\n",
       "      <td>0</td>\n",
       "      <td>0</td>\n",
       "    </tr>\n",
       "    <tr>\n",
       "      <th>1</th>\n",
       "      <td>\"8 LS1\" Emblems</td>\n",
       "      <td>0</td>\n",
       "      <td>0</td>\n",
       "      <td>1</td>\n",
       "      <td>1</td>\n",
       "      <td>0</td>\n",
       "      <td>0</td>\n",
       "      <td>0</td>\n",
       "    </tr>\n",
       "    <tr>\n",
       "      <th>2</th>\n",
       "      <td>\"A\" Letter Black Tailgate Emblem (68245565AE)</td>\n",
       "      <td>0</td>\n",
       "      <td>0</td>\n",
       "      <td>1</td>\n",
       "      <td>1</td>\n",
       "      <td>0</td>\n",
       "      <td>0</td>\n",
       "      <td>0</td>\n",
       "    </tr>\n",
       "    <tr>\n",
       "      <th>3</th>\n",
       "      <td>\"A\" Letter Black Tailgate Emblem (68282757AA)</td>\n",
       "      <td>0</td>\n",
       "      <td>0</td>\n",
       "      <td>1</td>\n",
       "      <td>1</td>\n",
       "      <td>0</td>\n",
       "      <td>0</td>\n",
       "      <td>0</td>\n",
       "    </tr>\n",
       "    <tr>\n",
       "      <th>4</th>\n",
       "      <td>\"A\" Letter Chrome Tailgate Emblem (68245543AE)</td>\n",
       "      <td>0</td>\n",
       "      <td>0</td>\n",
       "      <td>1</td>\n",
       "      <td>1</td>\n",
       "      <td>0</td>\n",
       "      <td>0</td>\n",
       "      <td>0</td>\n",
       "    </tr>\n",
       "  </tbody>\n",
       "</table>\n",
       "</div>"
      ],
      "text/plain": [
       "                                     Product Name  Audio & Electronics  \\\n",
       "0                                 \"8 468\" Emblems                    0   \n",
       "1                                 \"8 LS1\" Emblems                    0   \n",
       "2   \"A\" Letter Black Tailgate Emblem (68245565AE)                    0   \n",
       "3   \"A\" Letter Black Tailgate Emblem (68282757AA)                    0   \n",
       "4  \"A\" Letter Chrome Tailgate Emblem (68245543AE)                    0   \n",
       "\n",
       "   Automotive Tools  Body Parts  Exterior  Interior  Lighting  Parts  \n",
       "0                 0           1         1         0         0      0  \n",
       "1                 0           1         1         0         0      0  \n",
       "2                 0           1         1         0         0      0  \n",
       "3                 0           1         1         0         0      0  \n",
       "4                 0           1         1         0         0      0  "
      ]
     },
     "execution_count": 10,
     "metadata": {},
     "output_type": "execute_result"
    }
   ],
   "source": [
    "df = pd.read_csv('pivot_table1.csv')\n",
    "df.head()"
   ]
  },
  {
   "cell_type": "code",
   "execution_count": 11,
   "id": "50bbf25e-0f30-4c98-acbb-89c9b3643bb1",
   "metadata": {},
   "outputs": [
    {
     "ename": "SyntaxError",
     "evalue": "incomplete input (1623205809.py, line 1)",
     "output_type": "error",
     "traceback": [
      "\u001b[0;36m  Cell \u001b[0;32mIn[11], line 1\u001b[0;36m\u001b[0m\n\u001b[0;31m    '''def pre_process(text):\u001b[0m\n\u001b[0m    ^\u001b[0m\n\u001b[0;31mSyntaxError\u001b[0m\u001b[0;31m:\u001b[0m incomplete input\n"
     ]
    }
   ],
   "source": [
    "'''def pre_process(text):\n",
    "\n",
    "  text = BeautifulSoup(text).get_text()\n",
    "  \n",
    "  # fetch alphabetic characters\n",
    "  text = re.sub(\"[^a-zA-Z]\", \" \", text)\n",
    "\n",
    "  # convert text to lower case\n",
    "  text = text.lower()\n",
    "\n",
    "  # split text into tokens to remove whitespaces\n",
    "  tokens = text.split()\n",
    "\n",
    "  return \" \".join(tokens)"
   ]
  },
  {
   "cell_type": "code",
   "execution_count": null,
   "id": "946d81bf-21ca-48ca-b797-be9376198362",
   "metadata": {},
   "outputs": [],
   "source": [
    "'''df['Clean_Name'] = df['Product Name'].apply(pre_process)\n"
   ]
  },
  {
   "cell_type": "code",
   "execution_count": null,
   "id": "5e9487e3-570a-4bd6-a290-49174f51ec52",
   "metadata": {},
   "outputs": [],
   "source": [
    "'''df.head()"
   ]
  },
  {
   "cell_type": "code",
   "execution_count": 12,
   "id": "31d8ecc2-8a3c-414d-be22-bba67bfb78ef",
   "metadata": {},
   "outputs": [],
   "source": [
    "import pandas as pd\n",
    "\n",
    "# Assuming 'df_products' is your initial products DataFrame\n",
    "\n",
    "# Melt the DataFrame to go from wide to long format\n",
    "df_long = pd.melt(df, id_vars=['Product Name'], \n",
    "                  var_name='Category', value_name='Is_Tagged')\n",
    "\n",
    "# Filter out the rows where 'Is_Tagged' is 0, as these are not actual tags\n",
    "df_long = df_long[df_long['Is_Tagged'] == 1]\n",
    "\n",
    "# Group by 'Product Name' and aggregate the category names into lists to form the 'tags'\n",
    "df_tags = df_long.groupby('Product Name')['Category'].apply(list).reset_index(name='tags')\n",
    "\n",
    "# Your 'df_tags' DataFrame now has the 'Product Name' and a 'tags' column similar to your second DataFrame\n"
   ]
  },
  {
   "cell_type": "code",
   "execution_count": 13,
   "id": "d3496d11-3638-44d8-b2b7-e377d32f9862",
   "metadata": {},
   "outputs": [
    {
     "data": {
      "text/html": [
       "<div>\n",
       "<style scoped>\n",
       "    .dataframe tbody tr th:only-of-type {\n",
       "        vertical-align: middle;\n",
       "    }\n",
       "\n",
       "    .dataframe tbody tr th {\n",
       "        vertical-align: top;\n",
       "    }\n",
       "\n",
       "    .dataframe thead th {\n",
       "        text-align: right;\n",
       "    }\n",
       "</style>\n",
       "<table border=\"1\" class=\"dataframe\">\n",
       "  <thead>\n",
       "    <tr style=\"text-align: right;\">\n",
       "      <th></th>\n",
       "      <th>Product Name</th>\n",
       "      <th>tags</th>\n",
       "    </tr>\n",
       "  </thead>\n",
       "  <tbody>\n",
       "    <tr>\n",
       "      <th>0</th>\n",
       "      <td>\"8 468\" Emblems</td>\n",
       "      <td>[Body Parts, Exterior]</td>\n",
       "    </tr>\n",
       "    <tr>\n",
       "      <th>1</th>\n",
       "      <td>\"8 LS1\" Emblems</td>\n",
       "      <td>[Body Parts, Exterior]</td>\n",
       "    </tr>\n",
       "    <tr>\n",
       "      <th>2</th>\n",
       "      <td>\"A\" Letter Black Tailgate Emblem (68245565AE)</td>\n",
       "      <td>[Body Parts, Exterior]</td>\n",
       "    </tr>\n",
       "    <tr>\n",
       "      <th>3</th>\n",
       "      <td>\"A\" Letter Black Tailgate Emblem (68282757AA)</td>\n",
       "      <td>[Body Parts, Exterior]</td>\n",
       "    </tr>\n",
       "    <tr>\n",
       "      <th>4</th>\n",
       "      <td>\"A\" Letter Chrome Tailgate Emblem (68245543AE)</td>\n",
       "      <td>[Body Parts, Exterior]</td>\n",
       "    </tr>\n",
       "  </tbody>\n",
       "</table>\n",
       "</div>"
      ],
      "text/plain": [
       "                                     Product Name                    tags\n",
       "0                                 \"8 468\" Emblems  [Body Parts, Exterior]\n",
       "1                                 \"8 LS1\" Emblems  [Body Parts, Exterior]\n",
       "2   \"A\" Letter Black Tailgate Emblem (68245565AE)  [Body Parts, Exterior]\n",
       "3   \"A\" Letter Black Tailgate Emblem (68282757AA)  [Body Parts, Exterior]\n",
       "4  \"A\" Letter Chrome Tailgate Emblem (68245543AE)  [Body Parts, Exterior]"
      ]
     },
     "execution_count": 13,
     "metadata": {},
     "output_type": "execute_result"
    }
   ],
   "source": [
    "df_tags.head()"
   ]
  },
  {
   "cell_type": "code",
   "execution_count": 14,
   "id": "c805c447-1d74-4e1d-9e99-c584d1116562",
   "metadata": {},
   "outputs": [],
   "source": [
    "X = df_tags['Product Name']"
   ]
  },
  {
   "cell_type": "code",
   "execution_count": 15,
   "id": "db91da00-31b3-4f38-ab7c-de4014cbce1e",
   "metadata": {},
   "outputs": [],
   "source": [
    "lst_top_tags = ['Audio & Electronics', 'Automotive Tools', 'Body Parts', 'Exterior', 'Interior', 'Lighting', 'Parts']\n"
   ]
  },
  {
   "cell_type": "code",
   "execution_count": 16,
   "id": "24f4c2c0-4c7a-40df-84f2-189e8a7ee61f",
   "metadata": {},
   "outputs": [],
   "source": [
    "df = df_tags"
   ]
  },
  {
   "cell_type": "code",
   "execution_count": 17,
   "id": "ec3b2558-62d3-4cf0-855c-fbc20b91c41d",
   "metadata": {},
   "outputs": [],
   "source": [
    "# Filter out records ( values in clean_body and tags) that have atleast one of the top tags\n",
    "\n",
    "x=[] # To store the filtered clean_body values\n",
    "y=[] # to store the corresponding tags\n",
    "\n",
    "for i in range(len(df['tags'])):\n",
    "    temp=[]\n",
    "    for tag in df['tags'][i]:\n",
    "        if tag in lst_top_tags:\n",
    "            temp.append(tag)\n",
    "\n",
    "    if(len(temp)>0):\n",
    "        x.append(df['Product Name'][i])\n",
    "        y.append(temp)\n"
   ]
  },
  {
   "cell_type": "code",
   "execution_count": 18,
   "id": "ade898b4-05ab-4f0a-af1f-74666f220280",
   "metadata": {},
   "outputs": [
    {
     "data": {
      "text/plain": [
       "(23423, 7)"
      ]
     },
     "execution_count": 18,
     "metadata": {},
     "output_type": "execute_result"
    }
   ],
   "source": [
    "# Encode the tags(labels) in a binary format in order to be used for training\n",
    "mlb = MultiLabelBinarizer()\n",
    " \n",
    "yt = mlb.fit_transform(y)\n",
    "yt.shape"
   ]
  },
  {
   "cell_type": "code",
   "execution_count": 19,
   "id": "bc55aee3-82a8-4b88-8146-fb9b22be5875",
   "metadata": {},
   "outputs": [
    {
     "name": "stdout",
     "output_type": "stream",
     "text": [
      "[0 0 1 1 0 0 0]\n",
      "[('Body Parts', 'Exterior')]\n",
      "['Audio & Electronics' 'Automotive Tools' 'Body Parts' 'Exterior'\n",
      " 'Interior' 'Lighting' 'Parts']\n"
     ]
    }
   ],
   "source": [
    "# Getting a sense of how the tags data looks like\n",
    "print(yt[0])\n",
    "print(mlb.inverse_transform(yt[0].reshape(1,-1)))\n",
    "print(mlb.classes_)"
   ]
  },
  {
   "cell_type": "code",
   "execution_count": 20,
   "id": "0f629721-18e7-4c59-b7bd-ab0f0183b3d6",
   "metadata": {},
   "outputs": [],
   "source": [
    "from sklearn.model_selection import train_test_split\n",
    "# First Split for Train and Test\n",
    "x_train,x_test,y_train,y_test = train_test_split(x, yt, test_size=0.1, random_state=RANDOM_SEED,shuffle=True)\n",
    "# Next split Train in to training and validation\n",
    "x_tr,x_val,y_tr,y_val = train_test_split(x_train, y_train, test_size=0.2, random_state=RANDOM_SEED,shuffle=True)\n"
   ]
  },
  {
   "cell_type": "code",
   "execution_count": 21,
   "id": "134cac21-86f5-4804-82d2-5e9a7d3944c4",
   "metadata": {},
   "outputs": [
    {
     "data": {
      "text/plain": [
       "(16864, 4216, 2343)"
      ]
     },
     "execution_count": 21,
     "metadata": {},
     "output_type": "execute_result"
    }
   ],
   "source": [
    "len(x_tr) ,len(x_val), len(x_test)\n"
   ]
  },
  {
   "cell_type": "code",
   "execution_count": 22,
   "id": "d3453f51-715f-41bd-8587-54c3fdc9e017",
   "metadata": {},
   "outputs": [],
   "source": [
    "import pytorch_lightning as pl\n",
    "from torch.utils.data import DataLoader\n",
    "\n",
    "class PCDataModule(pl.LightningDataModule):\n",
    "    \n",
    "    def __init__(self, x_tr, y_tr, x_val, y_val, x_test, y_test, tokenizer, batch_size=16, max_token_len=200):\n",
    "        super().__init__()\n",
    "        self.tr_text = x_tr\n",
    "        self.tr_label = y_tr\n",
    "        self.val_text = x_val\n",
    "        self.val_label = y_val\n",
    "        self.test_text = x_test\n",
    "        self.test_label = y_test\n",
    "        self.tokenizer = tokenizer\n",
    "        self.batch_size = batch_size\n",
    "        self.max_token_len = max_token_len\n",
    "\n",
    "    def setup(self, stage=None):\n",
    "        # Setting up datasets based on the stage of the training/validation/testing\n",
    "        if stage == 'fit' or stage is None:\n",
    "            self.train_dataset = PCDataset(product=self.tr_text, tags=self.tr_label, tokenizer=self.tokenizer, max_len=self.max_token_len)\n",
    "            self.val_dataset = PCDataset(product=self.val_text, tags=self.val_label, tokenizer=self.tokenizer, max_len=self.max_token_len)\n",
    "        if stage == 'test' or stage is None:\n",
    "            self.test_dataset = PCDataset(product=self.test_text, tags=self.test_label, tokenizer=self.tokenizer, max_len=self.max_token_len)\n",
    "\n",
    "    def train_dataloader(self):\n",
    "        return DataLoader(self.train_dataset, batch_size=self.batch_size, shuffle=True, num_workers=11)\n",
    "\n",
    "    def val_dataloader(self):\n",
    "        return DataLoader(self.val_dataset, batch_size=16)\n",
    "\n",
    "    def test_dataloader(self):\n",
    "        return DataLoader(self.test_dataset, batch_size=16)\n"
   ]
  },
  {
   "cell_type": "code",
   "execution_count": 23,
   "id": "ae295a07-f520-4da2-8277-bc19e9603287",
   "metadata": {},
   "outputs": [],
   "source": [
    "# Initialize the Bert tokenizer\n",
    "BERT_MODEL_NAME = \"bert-base-cased\" # we will use the BERT base model(the smaller one)\n",
    "Bert_tokenizer = BertTokenizer.from_pretrained(BERT_MODEL_NAME)"
   ]
  },
  {
   "cell_type": "code",
   "execution_count": 24,
   "id": "6941c700-9eb3-40e8-ae13-4365ca7fdfbf",
   "metadata": {},
   "outputs": [],
   "source": [
    "# Initialize the parameters that will be use for training\n",
    "N_EPOCHS = 18\n",
    "BATCH_SIZE = 32\n",
    "MAX_LEN = 300\n",
    "LR = 2e-05"
   ]
  },
  {
   "cell_type": "code",
   "execution_count": 25,
   "id": "a63f482e-7775-459a-abe9-aa89fce555d4",
   "metadata": {},
   "outputs": [],
   "source": [
    "# Instantiate and set up the data_module\n",
    "PCdata_module = PCDataModule(x_tr,y_tr,x_val,y_val,x_test,y_test,Bert_tokenizer,BATCH_SIZE,MAX_LEN)\n",
    "PCdata_module.setup()"
   ]
  },
  {
   "cell_type": "code",
   "execution_count": 26,
   "id": "625ab4c5-45cc-4a63-98fb-6faf68cf5a0f",
   "metadata": {},
   "outputs": [],
   "source": [
    "class ProductClassifier(pl.LightningModule):\n",
    "    # Set up the classifier\n",
    "    def __init__(self, n_classes=7, steps_per_epoch=None, n_epochs=3, lr=2e-5 ):\n",
    "        super().__init__()\n",
    "\n",
    "        self.bert = BertModel.from_pretrained(BERT_MODEL_NAME, return_dict=True)\n",
    "        self.classifier = nn.Linear(self.bert.config.hidden_size,n_classes) # outputs = number of labels\n",
    "        self.steps_per_epoch = steps_per_epoch\n",
    "        self.n_epochs = n_epochs\n",
    "        self.lr = lr\n",
    "        self.criterion = nn.BCEWithLogitsLoss()\n",
    "        \n",
    "    def forward(self,input_ids, attn_mask):\n",
    "        output = self.bert(input_ids = input_ids ,attention_mask = attn_mask)\n",
    "        output = self.classifier(output.pooler_output)\n",
    "                \n",
    "        return output\n",
    "    \n",
    "    \n",
    "    def training_step(self,batch,batch_idx):\n",
    "        input_ids = batch['input_ids']\n",
    "        attention_mask = batch['attention_mask']\n",
    "        labels = batch['label']\n",
    "        \n",
    "        outputs = self(input_ids,attention_mask)\n",
    "        loss = self.criterion(outputs,labels)\n",
    "        self.log('train_loss',loss , prog_bar=True,logger=True)\n",
    "        \n",
    "        return {\"loss\" :loss, \"predictions\":outputs, \"labels\": labels }\n",
    "\n",
    "\n",
    "    def validation_step(self,batch,batch_idx):\n",
    "        input_ids = batch['input_ids']\n",
    "        attention_mask = batch['attention_mask']\n",
    "        labels = batch['label']\n",
    "        \n",
    "        outputs = self(input_ids,attention_mask)\n",
    "        loss = self.criterion(outputs,labels)\n",
    "        self.log('val_loss',loss , prog_bar=True,logger=True)\n",
    "        \n",
    "        return loss\n",
    "\n",
    "    def test_step(self,batch,batch_idx):\n",
    "        input_ids = batch['input_ids']\n",
    "        attention_mask = batch['attention_mask']\n",
    "        labels = batch['label']\n",
    "        \n",
    "        outputs = self(input_ids,attention_mask)\n",
    "        loss = self.criterion(outputs,labels)\n",
    "        self.log('test_loss',loss , prog_bar=True,logger=True)\n",
    "        \n",
    "        return loss\n",
    "    \n",
    "    \n",
    "    def configure_optimizers(self):\n",
    "        optimizer = AdamW(self.parameters() , lr=self.lr)\n",
    "        warmup_steps = self.steps_per_epoch//3\n",
    "        total_steps = self.steps_per_epoch * self.n_epochs - warmup_steps\n",
    "\n",
    "        scheduler = get_linear_schedule_with_warmup(optimizer,warmup_steps,total_steps)\n",
    "\n",
    "        return [optimizer], [scheduler]\n",
    "    "
   ]
  },
  {
   "cell_type": "code",
   "execution_count": 27,
   "id": "e05336ae-49f6-45b2-b38b-1a5cbf0c94c7",
   "metadata": {},
   "outputs": [],
   "source": [
    "# Instantiate the classifier model\n",
    "steps_per_epoch = len(x_tr)//BATCH_SIZE\n",
    "model = ProductClassifier(n_classes=7, steps_per_epoch=steps_per_epoch,n_epochs=N_EPOCHS,lr=LR)\n"
   ]
  },
  {
   "cell_type": "code",
   "execution_count": 28,
   "id": "52d62a9e-ec8e-4aff-aea1-9d5df0d0102d",
   "metadata": {},
   "outputs": [
    {
     "name": "stderr",
     "output_type": "stream",
     "text": [
      "GPU available: True (mps), used: True\n",
      "TPU available: False, using: 0 TPU cores\n",
      "IPU available: False, using: 0 IPUs\n",
      "HPU available: False, using: 0 HPUs\n"
     ]
    }
   ],
   "source": [
    "#Initialize Pytorch Lightning callback for Model checkpointing\n",
    "\n",
    "checkpoint_callback = ModelCheckpoint(\n",
    "    monitor='val_loss',# monitored quantity\n",
    "    filename='PC-{epoch:02d}-{val_loss:.2f}',\n",
    "    save_top_k=3, #  save the top 3 models\n",
    "    mode='min', # mode of the monitored quantity  for optimization\n",
    ")\n",
    "# Instantiate the Model Trainer\n",
    "trainer = pl.Trainer(max_epochs = N_EPOCHS, callbacks=[checkpoint_callback])\n"
   ]
  },
  {
   "cell_type": "code",
   "execution_count": 29,
   "id": "73e824f4-a0e6-4476-aded-4997eff3b005",
   "metadata": {},
   "outputs": [
    {
     "name": "stderr",
     "output_type": "stream",
     "text": [
      "Missing logger folder: /Users/maryamahmadi/Documents/GitHub/ML-Driven-E-commerce-Categorization-with-Web-Scraping/lightning_logs\n",
      "\n",
      "  | Name       | Type              | Params\n",
      "-------------------------------------------------\n",
      "0 | bert       | BertModel         | 108 M \n",
      "1 | classifier | Linear            | 5.4 K \n",
      "2 | criterion  | BCEWithLogitsLoss | 0     \n",
      "-------------------------------------------------\n",
      "108 M     Trainable params\n",
      "0         Non-trainable params\n",
      "108 M     Total params\n",
      "433.263   Total estimated model params size (MB)\n"
     ]
    },
    {
     "data": {
      "application/vnd.jupyter.widget-view+json": {
       "model_id": "",
       "version_major": 2,
       "version_minor": 0
      },
      "text/plain": [
       "Sanity Checking: |                                        | 0/? [00:00<?, ?it/s]"
      ]
     },
     "metadata": {},
     "output_type": "display_data"
    },
    {
     "name": "stderr",
     "output_type": "stream",
     "text": [
      "/opt/anaconda3/lib/python3.11/site-packages/pytorch_lightning/trainer/connectors/data_connector.py:441: The 'val_dataloader' does not have many workers which may be a bottleneck. Consider increasing the value of the `num_workers` argument` to `num_workers=11` in the `DataLoader` to improve performance.\n",
      "/opt/anaconda3/lib/python3.11/site-packages/pytorch_lightning/trainer/connectors/data_connector.py:436: Consider setting `persistent_workers=True` in 'train_dataloader' to speed up the dataloader worker initialization.\n"
     ]
    },
    {
     "data": {
      "application/vnd.jupyter.widget-view+json": {
       "model_id": "f9b9a7ce358846caba5d9cb16063d175",
       "version_major": 2,
       "version_minor": 0
      },
      "text/plain": [
       "Training: |                                               | 0/? [00:00<?, ?it/s]"
      ]
     },
     "metadata": {},
     "output_type": "display_data"
    },
    {
     "data": {
      "application/vnd.jupyter.widget-view+json": {
       "model_id": "",
       "version_major": 2,
       "version_minor": 0
      },
      "text/plain": [
       "Validation: |                                             | 0/? [00:00<?, ?it/s]"
      ]
     },
     "metadata": {},
     "output_type": "display_data"
    },
    {
     "data": {
      "application/vnd.jupyter.widget-view+json": {
       "model_id": "",
       "version_major": 2,
       "version_minor": 0
      },
      "text/plain": [
       "Validation: |                                             | 0/? [00:00<?, ?it/s]"
      ]
     },
     "metadata": {},
     "output_type": "display_data"
    },
    {
     "data": {
      "application/vnd.jupyter.widget-view+json": {
       "model_id": "",
       "version_major": 2,
       "version_minor": 0
      },
      "text/plain": [
       "Validation: |                                             | 0/? [00:00<?, ?it/s]"
      ]
     },
     "metadata": {},
     "output_type": "display_data"
    },
    {
     "data": {
      "application/vnd.jupyter.widget-view+json": {
       "model_id": "",
       "version_major": 2,
       "version_minor": 0
      },
      "text/plain": [
       "Validation: |                                             | 0/? [00:00<?, ?it/s]"
      ]
     },
     "metadata": {},
     "output_type": "display_data"
    },
    {
     "data": {
      "application/vnd.jupyter.widget-view+json": {
       "model_id": "",
       "version_major": 2,
       "version_minor": 0
      },
      "text/plain": [
       "Validation: |                                             | 0/? [00:00<?, ?it/s]"
      ]
     },
     "metadata": {},
     "output_type": "display_data"
    },
    {
     "data": {
      "application/vnd.jupyter.widget-view+json": {
       "model_id": "",
       "version_major": 2,
       "version_minor": 0
      },
      "text/plain": [
       "Validation: |                                             | 0/? [00:00<?, ?it/s]"
      ]
     },
     "metadata": {},
     "output_type": "display_data"
    },
    {
     "data": {
      "application/vnd.jupyter.widget-view+json": {
       "model_id": "",
       "version_major": 2,
       "version_minor": 0
      },
      "text/plain": [
       "Validation: |                                             | 0/? [00:00<?, ?it/s]"
      ]
     },
     "metadata": {},
     "output_type": "display_data"
    },
    {
     "data": {
      "application/vnd.jupyter.widget-view+json": {
       "model_id": "",
       "version_major": 2,
       "version_minor": 0
      },
      "text/plain": [
       "Validation: |                                             | 0/? [00:00<?, ?it/s]"
      ]
     },
     "metadata": {},
     "output_type": "display_data"
    },
    {
     "data": {
      "application/vnd.jupyter.widget-view+json": {
       "model_id": "",
       "version_major": 2,
       "version_minor": 0
      },
      "text/plain": [
       "Validation: |                                             | 0/? [00:00<?, ?it/s]"
      ]
     },
     "metadata": {},
     "output_type": "display_data"
    },
    {
     "data": {
      "application/vnd.jupyter.widget-view+json": {
       "model_id": "",
       "version_major": 2,
       "version_minor": 0
      },
      "text/plain": [
       "Validation: |                                             | 0/? [00:00<?, ?it/s]"
      ]
     },
     "metadata": {},
     "output_type": "display_data"
    },
    {
     "data": {
      "application/vnd.jupyter.widget-view+json": {
       "model_id": "",
       "version_major": 2,
       "version_minor": 0
      },
      "text/plain": [
       "Validation: |                                             | 0/? [00:00<?, ?it/s]"
      ]
     },
     "metadata": {},
     "output_type": "display_data"
    },
    {
     "data": {
      "application/vnd.jupyter.widget-view+json": {
       "model_id": "",
       "version_major": 2,
       "version_minor": 0
      },
      "text/plain": [
       "Validation: |                                             | 0/? [00:00<?, ?it/s]"
      ]
     },
     "metadata": {},
     "output_type": "display_data"
    },
    {
     "data": {
      "application/vnd.jupyter.widget-view+json": {
       "model_id": "",
       "version_major": 2,
       "version_minor": 0
      },
      "text/plain": [
       "Validation: |                                             | 0/? [00:00<?, ?it/s]"
      ]
     },
     "metadata": {},
     "output_type": "display_data"
    },
    {
     "data": {
      "application/vnd.jupyter.widget-view+json": {
       "model_id": "",
       "version_major": 2,
       "version_minor": 0
      },
      "text/plain": [
       "Validation: |                                             | 0/? [00:00<?, ?it/s]"
      ]
     },
     "metadata": {},
     "output_type": "display_data"
    },
    {
     "data": {
      "application/vnd.jupyter.widget-view+json": {
       "model_id": "",
       "version_major": 2,
       "version_minor": 0
      },
      "text/plain": [
       "Validation: |                                             | 0/? [00:00<?, ?it/s]"
      ]
     },
     "metadata": {},
     "output_type": "display_data"
    },
    {
     "data": {
      "application/vnd.jupyter.widget-view+json": {
       "model_id": "",
       "version_major": 2,
       "version_minor": 0
      },
      "text/plain": [
       "Validation: |                                             | 0/? [00:00<?, ?it/s]"
      ]
     },
     "metadata": {},
     "output_type": "display_data"
    },
    {
     "data": {
      "application/vnd.jupyter.widget-view+json": {
       "model_id": "",
       "version_major": 2,
       "version_minor": 0
      },
      "text/plain": [
       "Validation: |                                             | 0/? [00:00<?, ?it/s]"
      ]
     },
     "metadata": {},
     "output_type": "display_data"
    },
    {
     "data": {
      "application/vnd.jupyter.widget-view+json": {
       "model_id": "",
       "version_major": 2,
       "version_minor": 0
      },
      "text/plain": [
       "Validation: |                                             | 0/? [00:00<?, ?it/s]"
      ]
     },
     "metadata": {},
     "output_type": "display_data"
    },
    {
     "name": "stderr",
     "output_type": "stream",
     "text": [
      "`Trainer.fit` stopped: `max_epochs=18` reached.\n"
     ]
    }
   ],
   "source": [
    "trainer.fit(model, PCdata_module)\n"
   ]
  },
  {
   "cell_type": "code",
   "execution_count": 30,
   "id": "030a544a-d49e-440b-b63b-5d4ae0cc86a4",
   "metadata": {},
   "outputs": [
    {
     "data": {
      "text/plain": [
       "'/Users/maryamahmadi/Documents/GitHub/ML-Driven-E-commerce-Categorization-with-Web-Scraping/lightning_logs/version_0/checkpoints/PC-epoch=17-val_loss=0.12.ckpt'"
      ]
     },
     "execution_count": 30,
     "metadata": {},
     "output_type": "execute_result"
    }
   ],
   "source": [
    "# Retreive the checkpoint path for best model\n",
    "best_model_path = checkpoint_callback.best_model_path\n",
    "model = ProductClassifier.load_from_checkpoint(best_model_path)\n",
    "best_model_path "
   ]
  },
  {
   "cell_type": "code",
   "execution_count": 31,
   "id": "82b0c95c-d778-4a30-8407-a44ba89a347d",
   "metadata": {},
   "outputs": [
    {
     "name": "stderr",
     "output_type": "stream",
     "text": [
      "/opt/anaconda3/lib/python3.11/site-packages/pytorch_lightning/trainer/connectors/data_connector.py:441: The 'test_dataloader' does not have many workers which may be a bottleneck. Consider increasing the value of the `num_workers` argument` to `num_workers=11` in the `DataLoader` to improve performance.\n"
     ]
    },
    {
     "data": {
      "application/vnd.jupyter.widget-view+json": {
       "model_id": "3edce04bc8fb420aa202922d3f318631",
       "version_major": 2,
       "version_minor": 0
      },
      "text/plain": [
       "Testing: |                                                | 0/? [00:00<?, ?it/s]"
      ]
     },
     "metadata": {},
     "output_type": "display_data"
    },
    {
     "data": {
      "text/html": [
       "<pre style=\"white-space:pre;overflow-x:auto;line-height:normal;font-family:Menlo,'DejaVu Sans Mono',consolas,'Courier New',monospace\">┏━━━━━━━━━━━━━━━━━━━━━━━━━━━┳━━━━━━━━━━━━━━━━━━━━━━━━━━━┓\n",
       "┃<span style=\"font-weight: bold\">        Test metric        </span>┃<span style=\"font-weight: bold\">       DataLoader 0        </span>┃\n",
       "┡━━━━━━━━━━━━━━━━━━━━━━━━━━━╇━━━━━━━━━━━━━━━━━━━━━━━━━━━┩\n",
       "│<span style=\"color: #008080; text-decoration-color: #008080\">         test_loss         </span>│<span style=\"color: #800080; text-decoration-color: #800080\">    0.10831587761640549    </span>│\n",
       "└───────────────────────────┴───────────────────────────┘\n",
       "</pre>\n"
      ],
      "text/plain": [
       "┏━━━━━━━━━━━━━━━━━━━━━━━━━━━┳━━━━━━━━━━━━━━━━━━━━━━━━━━━┓\n",
       "┃\u001b[1m \u001b[0m\u001b[1m       Test metric       \u001b[0m\u001b[1m \u001b[0m┃\u001b[1m \u001b[0m\u001b[1m      DataLoader 0       \u001b[0m\u001b[1m \u001b[0m┃\n",
       "┡━━━━━━━━━━━━━━━━━━━━━━━━━━━╇━━━━━━━━━━━━━━━━━━━━━━━━━━━┩\n",
       "│\u001b[36m \u001b[0m\u001b[36m        test_loss        \u001b[0m\u001b[36m \u001b[0m│\u001b[35m \u001b[0m\u001b[35m   0.10831587761640549   \u001b[0m\u001b[35m \u001b[0m│\n",
       "└───────────────────────────┴───────────────────────────┘\n"
      ]
     },
     "metadata": {},
     "output_type": "display_data"
    },
    {
     "data": {
      "text/plain": [
       "[{'test_loss': 0.10831587761640549}]"
      ]
     },
     "execution_count": 31,
     "metadata": {},
     "output_type": "execute_result"
    }
   ],
   "source": [
    "# Evaluate the model performance on the test dataset\n",
    "trainer.test(model,datamodule= PCdata_module)"
   ]
  },
  {
   "cell_type": "code",
   "execution_count": 32,
   "id": "1c98d38b-d556-4cc5-8980-b676162be311",
   "metadata": {},
   "outputs": [
    {
     "data": {
      "text/html": [
       "\n",
       "      <iframe id=\"tensorboard-frame-55aef73110cc7094\" width=\"100%\" height=\"800\" frameborder=\"0\">\n",
       "      </iframe>\n",
       "      <script>\n",
       "        (function() {\n",
       "          const frame = document.getElementById(\"tensorboard-frame-55aef73110cc7094\");\n",
       "          const url = new URL(\"/\", window.location);\n",
       "          const port = 6008;\n",
       "          if (port) {\n",
       "            url.port = port;\n",
       "          }\n",
       "          frame.src = url;\n",
       "        })();\n",
       "      </script>\n",
       "    "
      ],
      "text/plain": [
       "<IPython.core.display.HTML object>"
      ]
     },
     "metadata": {},
     "output_type": "display_data"
    }
   ],
   "source": [
    "# Visualize the logs using tensorboard.\n",
    "%load_ext tensorboard\n",
    "%tensorboard --logdir lightning_logs/"
   ]
  },
  {
   "cell_type": "code",
   "execution_count": 33,
   "id": "d4d9b551-b330-4db5-9f9e-d934a8efa1ee",
   "metadata": {},
   "outputs": [
    {
     "data": {
      "text/plain": [
       "(2343, 2343)"
      ]
     },
     "execution_count": 33,
     "metadata": {},
     "output_type": "execute_result"
    }
   ],
   "source": [
    "len(y_test), len(x_test)\n"
   ]
  },
  {
   "cell_type": "code",
   "execution_count": 34,
   "id": "157396c2-68de-463e-9b13-2c5ef1fd2aa4",
   "metadata": {},
   "outputs": [],
   "source": [
    "from torch.utils.data import TensorDataset\n",
    "\n",
    "# Tokenize all product titles in x_test\n",
    "input_ids = []\n",
    "attention_masks = []\n",
    "\n",
    "\n",
    "for pro in x_test:\n",
    "    encoded_pro =  Bert_tokenizer.encode_plus(\n",
    "                    pro,\n",
    "                    None,\n",
    "                    add_special_tokens=True,\n",
    "                    max_length= MAX_LEN,\n",
    "                    padding = 'max_length',\n",
    "                    return_token_type_ids= False,\n",
    "                    return_attention_mask= True,\n",
    "                    truncation=True,\n",
    "                    return_tensors = 'pt'      \n",
    "    )\n",
    "    \n",
    "    # Add the input_ids from encoded product title to the list.    \n",
    "    input_ids.append(encoded_pro['input_ids'])\n",
    "    # Add its attention mask \n",
    "    attention_masks.append(encoded_pro['attention_mask'])\n",
    "    \n",
    "# Now convert the lists into tensors.\n",
    "input_ids = torch.cat(input_ids, dim=0)\n",
    "attention_masks = torch.cat(attention_masks, dim=0)\n",
    "labels = torch.tensor(y_test)\n",
    "\n",
    "# Set the batch size.  \n",
    "TEST_BATCH_SIZE = 64  \n",
    "\n",
    "# Create the DataLoader.\n",
    "pred_data = TensorDataset(input_ids, attention_masks, labels)\n",
    "pred_sampler = SequentialSampler(pred_data)\n",
    "pred_dataloader = DataLoader(pred_data, sampler=pred_sampler, batch_size=TEST_BATCH_SIZE)\n",
    "    "
   ]
  },
  {
   "cell_type": "code",
   "execution_count": 35,
   "id": "70a34a07-43ac-408a-948f-a532152863e1",
   "metadata": {},
   "outputs": [],
   "source": [
    "flat_pred_outs = 0\n",
    "flat_true_labels = 0"
   ]
  },
  {
   "cell_type": "code",
   "execution_count": 36,
   "id": "e0295b99-0fe6-47ab-9345-85a2e3f20b6e",
   "metadata": {},
   "outputs": [],
   "source": [
    "# Put model in evaluation mode\n",
    "model = model.to(device) # moving model to cuda\n",
    "model.eval()\n",
    "\n",
    "# Tracking variables \n",
    "pred_outs, true_labels = [], []\n",
    "#i=0\n",
    "# Predict \n",
    "for batch in pred_dataloader:\n",
    "    # Add batch to GPU\n",
    "    batch = tuple(t.to(device) for t in batch)\n",
    "  \n",
    "    # Unpack the inputs from our dataloader\n",
    "    b_input_ids, b_attn_mask, b_labels = batch\n",
    " \n",
    "    with torch.no_grad():\n",
    "        # Forward pass, calculate logit predictions\n",
    "        pred_out = model(b_input_ids,b_attn_mask)\n",
    "        pred_out = torch.sigmoid(pred_out)\n",
    "        # Move predicted output and labels to CPU\n",
    "        pred_out = pred_out.detach().cpu().numpy()\n",
    "        label_ids = b_labels.to('cpu').numpy()\n",
    "        #i+=1\n",
    "        # Store predictions and true labels\n",
    "        #print(i)\n",
    "        #print(outputs)\n",
    "        #print(logits)\n",
    "        #print(label_ids)\n",
    "    pred_outs.append(pred_out)\n",
    "    true_labels.append(label_ids)\n"
   ]
  },
  {
   "cell_type": "code",
   "execution_count": 37,
   "id": "5d04186f-4edb-4e68-adb6-97517601f4a0",
   "metadata": {},
   "outputs": [
    {
     "data": {
      "text/plain": [
       "array([0.98021233, 0.01940514, 0.02395695, 0.02230301, 0.02977475,\n",
       "       0.04395498, 0.01976036], dtype=float32)"
      ]
     },
     "execution_count": 37,
     "metadata": {},
     "output_type": "execute_result"
    }
   ],
   "source": [
    "pred_outs[0][0]"
   ]
  },
  {
   "cell_type": "code",
   "execution_count": 38,
   "id": "c0d0ecde-3682-4021-83c6-a96258e96271",
   "metadata": {},
   "outputs": [],
   "source": [
    "# Combine the results across all batches. \n",
    "flat_pred_outs = np.concatenate(pred_outs, axis=0)\n",
    "\n",
    "# Combine the correct labels for each batch into a single list.\n",
    "flat_true_labels = np.concatenate(true_labels, axis=0)"
   ]
  },
  {
   "cell_type": "code",
   "execution_count": 39,
   "id": "1c514322-72b0-4c13-8a4f-f810fc8a88b9",
   "metadata": {},
   "outputs": [
    {
     "data": {
      "text/plain": [
       "((2343, 7), (2343, 7))"
      ]
     },
     "execution_count": 39,
     "metadata": {},
     "output_type": "execute_result"
    }
   ],
   "source": [
    "flat_pred_outs.shape , flat_true_labels.shape\n"
   ]
  },
  {
   "cell_type": "code",
   "execution_count": 40,
   "id": "fe1acbb6-9b3d-45f2-90ae-f752b949aac6",
   "metadata": {},
   "outputs": [
    {
     "data": {
      "text/plain": [
       "array([0.2 , 0.21, 0.22, 0.23, 0.24, 0.25, 0.26, 0.27, 0.28, 0.29, 0.3 ,\n",
       "       0.31, 0.32, 0.33, 0.34, 0.35, 0.36, 0.37, 0.38, 0.39, 0.4 , 0.41,\n",
       "       0.42, 0.43, 0.44])"
      ]
     },
     "execution_count": 40,
     "metadata": {},
     "output_type": "execute_result"
    }
   ],
   "source": [
    "#define candidate threshold values\n",
    "threshold  = np.arange(0.2,0.45,0.01)\n",
    "threshold"
   ]
  },
  {
   "cell_type": "code",
   "execution_count": 41,
   "id": "c6cc3987-e579-40ce-88b5-dd4dc1a665af",
   "metadata": {},
   "outputs": [],
   "source": [
    "# convert probabilities into 0 or 1 based on a threshold value\n",
    "def classify(pred_prob,thresh):\n",
    "    y_pred = []\n",
    "\n",
    "    for tag_label_row in pred_prob:\n",
    "        temp=[]\n",
    "        for tag_label in tag_label_row:\n",
    "            if tag_label >= thresh:\n",
    "                temp.append(1) # Infer tag value as 1 (present)\n",
    "            else:\n",
    "                temp.append(0) # Infer tag value as 0 (absent)\n",
    "        y_pred.append(temp)\n",
    "\n",
    "    return y_pred"
   ]
  },
  {
   "cell_type": "code",
   "execution_count": 42,
   "id": "af5a468b-f3a6-4e82-b292-902cf2c858cf",
   "metadata": {},
   "outputs": [
    {
     "data": {
      "text/plain": [
       "array([0.02295901, 0.9676558 , 0.02776394, 0.01347516, 0.01975102,\n",
       "       0.02394114, 0.03220677], dtype=float32)"
      ]
     },
     "execution_count": 42,
     "metadata": {},
     "output_type": "execute_result"
    }
   ],
   "source": [
    "flat_pred_outs[3]"
   ]
  },
  {
   "cell_type": "code",
   "execution_count": 43,
   "id": "cc18c519-da24-444e-9a88-e31a27066515",
   "metadata": {},
   "outputs": [
    {
     "data": {
      "text/plain": [
       "array([0, 1, 0, 0, 0, 0, 0])"
      ]
     },
     "execution_count": 43,
     "metadata": {},
     "output_type": "execute_result"
    }
   ],
   "source": [
    "flat_true_labels[3]\n"
   ]
  },
  {
   "cell_type": "code",
   "execution_count": 44,
   "id": "8167b248-0c05-43dc-964a-4a01a80b052d",
   "metadata": {},
   "outputs": [],
   "source": [
    "from sklearn import metrics\n",
    "scores=[] # Store the list of f1 scores for prediction on each threshold\n",
    "\n",
    "#convert labels to 1D array\n",
    "y_true = flat_true_labels.ravel() \n",
    "\n",
    "for thresh in threshold:\n",
    "    \n",
    "    #classes for each threshold\n",
    "    pred_bin_label = classify(flat_pred_outs,thresh) \n",
    "\n",
    "    #convert to 1D array\n",
    "    y_pred = np.array(pred_bin_label).ravel()\n",
    "\n",
    "    scores.append(metrics.f1_score(y_true,y_pred))"
   ]
  },
  {
   "cell_type": "code",
   "execution_count": 45,
   "id": "6d2d4887-0fcd-4e42-be3d-23917e1e9399",
   "metadata": {},
   "outputs": [
    {
     "name": "stdout",
     "output_type": "stream",
     "text": [
      "Optimal Threshold Value = 0.4300000000000002\n"
     ]
    }
   ],
   "source": [
    "# find the optimal threshold\n",
    "opt_thresh = threshold[scores.index(max(scores))]\n",
    "print(f'Optimal Threshold Value = {opt_thresh}')"
   ]
  },
  {
   "cell_type": "code",
   "execution_count": 60,
   "id": "7b2c74cd-d6fd-4257-82a9-47d612829a12",
   "metadata": {},
   "outputs": [],
   "source": [
    "#y_true = flat_true_labels.ravel() \n"
   ]
  },
  {
   "cell_type": "code",
   "execution_count": 46,
   "id": "98482ff4-a20e-4a48-adb2-c84a2bcf138c",
   "metadata": {},
   "outputs": [
    {
     "name": "stdout",
     "output_type": "stream",
     "text": [
      "              precision    recall  f1-score   support\n",
      "\n",
      "           0       0.98      0.98      0.98     13590\n",
      "           1       0.92      0.89      0.90      2811\n",
      "\n",
      "    accuracy                           0.97     16401\n",
      "   macro avg       0.95      0.94      0.94     16401\n",
      "weighted avg       0.97      0.97      0.97     16401\n",
      "\n"
     ]
    }
   ],
   "source": [
    "#predictions for optimal threshold\n",
    "y_pred_labels = classify(flat_pred_outs,opt_thresh)\n",
    "y_pred = np.array(y_pred_labels).ravel() # Flatten\n",
    "print(metrics.classification_report(y_true,y_pred))\n"
   ]
  },
  {
   "cell_type": "code",
   "execution_count": 50,
   "id": "515e3769-31f8-462b-bf9a-e09702aec5fe",
   "metadata": {},
   "outputs": [],
   "source": [
    "y_pred = mlb.inverse_transform(np.array(y_pred_labels))\n",
    "y_act = mlb.inverse_transform(flat_true_labels)\n",
    "\n",
    "df_result = pd.DataFrame({'Body':x_test,'Actual Tags':y_act,'Predicted Tags':y_pred})"
   ]
  },
  {
   "cell_type": "code",
   "execution_count": 51,
   "id": "02567cd9-350c-4a5c-8ec6-5aadcbb1c278",
   "metadata": {},
   "outputs": [
    {
     "data": {
      "text/html": [
       "<div>\n",
       "<style scoped>\n",
       "    .dataframe tbody tr th:only-of-type {\n",
       "        vertical-align: middle;\n",
       "    }\n",
       "\n",
       "    .dataframe tbody tr th {\n",
       "        vertical-align: top;\n",
       "    }\n",
       "\n",
       "    .dataframe thead th {\n",
       "        text-align: right;\n",
       "    }\n",
       "</style>\n",
       "<table border=\"1\" class=\"dataframe\">\n",
       "  <thead>\n",
       "    <tr style=\"text-align: right;\">\n",
       "      <th></th>\n",
       "      <th>Body</th>\n",
       "      <th>Actual Tags</th>\n",
       "      <th>Predicted Tags</th>\n",
       "    </tr>\n",
       "  </thead>\n",
       "  <tbody>\n",
       "    <tr>\n",
       "      <th>173</th>\n",
       "      <td>Chrome Third Brake Light Cover</td>\n",
       "      <td>(Body Parts, Exterior, Lighting)</td>\n",
       "      <td>(Body Parts, Exterior, Lighting)</td>\n",
       "    </tr>\n",
       "    <tr>\n",
       "      <th>1023</th>\n",
       "      <td>NV Series Speedometer Gauges</td>\n",
       "      <td>(Interior,)</td>\n",
       "      <td>(Interior,)</td>\n",
       "    </tr>\n",
       "    <tr>\n",
       "      <th>599</th>\n",
       "      <td>Elixir HP™ Calcium Sulfonate Synthetic Blend G...</td>\n",
       "      <td>(Parts,)</td>\n",
       "      <td>(Parts,)</td>\n",
       "    </tr>\n",
       "    <tr>\n",
       "      <th>1472</th>\n",
       "      <td>Aspen Key Chain</td>\n",
       "      <td>(Body Parts, Exterior)</td>\n",
       "      <td>(Body Parts, Exterior)</td>\n",
       "    </tr>\n",
       "    <tr>\n",
       "      <th>1846</th>\n",
       "      <td>3061/2T-Series 2 t 132 mm to 326 mm 2-Stage Ai...</td>\n",
       "      <td>(Automotive Tools,)</td>\n",
       "      <td>(Automotive Tools,)</td>\n",
       "    </tr>\n",
       "    <tr>\n",
       "      <th>952</th>\n",
       "      <td>Air Conditioning Expansion Valve</td>\n",
       "      <td>(Parts,)</td>\n",
       "      <td>(Parts,)</td>\n",
       "    </tr>\n",
       "    <tr>\n",
       "      <th>2149</th>\n",
       "      <td>Remote Vehicle Starter Kit (68186558AB)</td>\n",
       "      <td>(Audio &amp; Electronics,)</td>\n",
       "      <td>(Audio &amp; Electronics,)</td>\n",
       "    </tr>\n",
       "    <tr>\n",
       "      <th>2248</th>\n",
       "      <td>Daytime Running Light Replacement Bulbs</td>\n",
       "      <td>(Body Parts, Exterior, Lighting)</td>\n",
       "      <td>(Lighting,)</td>\n",
       "    </tr>\n",
       "    <tr>\n",
       "      <th>2117</th>\n",
       "      <td>GM Original Equipment™ Ebony Steering Wheel Au...</td>\n",
       "      <td>(Interior, Parts)</td>\n",
       "      <td>(Interior, Parts)</td>\n",
       "    </tr>\n",
       "    <tr>\n",
       "      <th>785</th>\n",
       "      <td>Black Mud Flaps</td>\n",
       "      <td>(Exterior,)</td>\n",
       "      <td>(Exterior,)</td>\n",
       "    </tr>\n",
       "  </tbody>\n",
       "</table>\n",
       "</div>"
      ],
      "text/plain": [
       "                                                   Body  \\\n",
       "173                      Chrome Third Brake Light Cover   \n",
       "1023                       NV Series Speedometer Gauges   \n",
       "599   Elixir HP™ Calcium Sulfonate Synthetic Blend G...   \n",
       "1472                                    Aspen Key Chain   \n",
       "1846  3061/2T-Series 2 t 132 mm to 326 mm 2-Stage Ai...   \n",
       "952                    Air Conditioning Expansion Valve   \n",
       "2149            Remote Vehicle Starter Kit (68186558AB)   \n",
       "2248            Daytime Running Light Replacement Bulbs   \n",
       "2117  GM Original Equipment™ Ebony Steering Wheel Au...   \n",
       "785                                     Black Mud Flaps   \n",
       "\n",
       "                           Actual Tags                    Predicted Tags  \n",
       "173   (Body Parts, Exterior, Lighting)  (Body Parts, Exterior, Lighting)  \n",
       "1023                       (Interior,)                       (Interior,)  \n",
       "599                           (Parts,)                          (Parts,)  \n",
       "1472            (Body Parts, Exterior)            (Body Parts, Exterior)  \n",
       "1846               (Automotive Tools,)               (Automotive Tools,)  \n",
       "952                           (Parts,)                          (Parts,)  \n",
       "2149            (Audio & Electronics,)            (Audio & Electronics,)  \n",
       "2248  (Body Parts, Exterior, Lighting)                       (Lighting,)  \n",
       "2117                 (Interior, Parts)                 (Interior, Parts)  \n",
       "785                        (Exterior,)                       (Exterior,)  "
      ]
     },
     "execution_count": 51,
     "metadata": {},
     "output_type": "execute_result"
    }
   ],
   "source": [
    "df_result.sample(10)\n"
   ]
  },
  {
   "cell_type": "code",
   "execution_count": 60,
   "id": "545a92b1-7626-4ae0-bb27-cd0ef0b1cc5b",
   "metadata": {},
   "outputs": [
    {
     "name": "stdout",
     "output_type": "stream",
     "text": [
      "(2343, 7)\n"
     ]
    }
   ],
   "source": [
    "print(flat_true_labels.shape)"
   ]
  },
  {
   "cell_type": "code",
   "execution_count": 63,
   "id": "d56f7b97-10b5-4647-b46c-de0b9e4a88e4",
   "metadata": {},
   "outputs": [],
   "source": [
    "y_pred_array = np.array(y_pred_labels)"
   ]
  },
  {
   "cell_type": "code",
   "execution_count": 64,
   "id": "fbc91b35-06c3-46e1-9d99-c954ce3f2622",
   "metadata": {},
   "outputs": [
    {
     "name": "stdout",
     "output_type": "stream",
     "text": [
      "[[1 0 0 ... 0 0 0]\n",
      " [0 0 0 ... 0 0 0]\n",
      " [0 1 0 ... 0 0 0]\n",
      " ...\n",
      " [0 0 1 ... 0 0 0]\n",
      " [0 0 0 ... 0 0 1]\n",
      " [0 1 0 ... 0 0 0]]\n"
     ]
    }
   ],
   "source": [
    "print(y_pred_array)"
   ]
  },
  {
   "cell_type": "code",
   "execution_count": 97,
   "id": "64dce0b8-253d-4874-abef-9c39214da85f",
   "metadata": {},
   "outputs": [
    {
     "name": "stdout",
     "output_type": "stream",
     "text": [
      "7\n"
     ]
    }
   ],
   "source": [
    "print(y_true.shape[1])"
   ]
  },
  {
   "cell_type": "code",
   "execution_count": 86,
   "id": "2a965184-6687-43e4-b15f-c63f4c832bba",
   "metadata": {},
   "outputs": [],
   "source": [
    "num_classes = 7\n",
    "\n",
    "performance_metrics = {\n",
    "    'Accuracy': [],\n",
    "    'Precision': [],\n",
    "    'Recall': [],\n",
    "    'F1 Score': []\n",
    "}\n",
    "\n",
    "# Assuming that there are no divisions by zero in precision and recall calculations\n",
    "for i in range(num_classes):\n",
    "    performance_metrics['Accuracy'].append(accuracy_score(flat_true_labels[:, i], y_pred_array[:, i]))\n",
    "    performance_metrics['Precision'].append(precision_score(flat_true_labels[:, i], y_pred_array[:, i], zero_division=0))\n",
    "    performance_metrics['Recall'].append(recall_score(flat_true_labels[:, i], y_pred_array[:, i], zero_division=0))\n",
    "    performance_metrics['F1 Score'].append(f1_score(flat_true_labels[:, i], y_pred_array[:, i], zero_division=0))\n"
   ]
  },
  {
   "cell_type": "code",
   "execution_count": 84,
   "id": "bd519b6d-23a5-4e90-8256-03efa8d162d7",
   "metadata": {},
   "outputs": [
    {
     "data": {
      "text/html": [
       "<div>\n",
       "<style scoped>\n",
       "    .dataframe tbody tr th:only-of-type {\n",
       "        vertical-align: middle;\n",
       "    }\n",
       "\n",
       "    .dataframe tbody tr th {\n",
       "        vertical-align: top;\n",
       "    }\n",
       "\n",
       "    .dataframe thead th {\n",
       "        text-align: right;\n",
       "    }\n",
       "</style>\n",
       "<table border=\"1\" class=\"dataframe\">\n",
       "  <thead>\n",
       "    <tr style=\"text-align: right;\">\n",
       "      <th></th>\n",
       "      <th>Label</th>\n",
       "      <th>Accuracy</th>\n",
       "      <th>Precision</th>\n",
       "      <th>Recall</th>\n",
       "      <th>F1 Score</th>\n",
       "    </tr>\n",
       "  </thead>\n",
       "  <tbody>\n",
       "    <tr>\n",
       "      <th>0</th>\n",
       "      <td>Audio &amp; Electronics</td>\n",
       "      <td>0.986342</td>\n",
       "      <td>0.949807</td>\n",
       "      <td>0.928302</td>\n",
       "      <td>0.938931</td>\n",
       "    </tr>\n",
       "    <tr>\n",
       "      <th>1</th>\n",
       "      <td>Automotive Tools</td>\n",
       "      <td>0.976953</td>\n",
       "      <td>0.933333</td>\n",
       "      <td>0.891720</td>\n",
       "      <td>0.912052</td>\n",
       "    </tr>\n",
       "    <tr>\n",
       "      <th>2</th>\n",
       "      <td>Body Parts</td>\n",
       "      <td>0.960734</td>\n",
       "      <td>0.889855</td>\n",
       "      <td>0.850416</td>\n",
       "      <td>0.869688</td>\n",
       "    </tr>\n",
       "    <tr>\n",
       "      <th>3</th>\n",
       "      <td>Exterior</td>\n",
       "      <td>0.937260</td>\n",
       "      <td>0.896350</td>\n",
       "      <td>0.889855</td>\n",
       "      <td>0.893091</td>\n",
       "    </tr>\n",
       "    <tr>\n",
       "      <th>4</th>\n",
       "      <td>Interior</td>\n",
       "      <td>0.967990</td>\n",
       "      <td>0.923858</td>\n",
       "      <td>0.889976</td>\n",
       "      <td>0.906600</td>\n",
       "    </tr>\n",
       "    <tr>\n",
       "      <th>5</th>\n",
       "      <td>Lighting</td>\n",
       "      <td>0.985062</td>\n",
       "      <td>0.924658</td>\n",
       "      <td>0.849057</td>\n",
       "      <td>0.885246</td>\n",
       "    </tr>\n",
       "    <tr>\n",
       "      <th>6</th>\n",
       "      <td>Parts</td>\n",
       "      <td>0.959880</td>\n",
       "      <td>0.936134</td>\n",
       "      <td>0.908646</td>\n",
       "      <td>0.922185</td>\n",
       "    </tr>\n",
       "  </tbody>\n",
       "</table>\n",
       "</div>"
      ],
      "text/plain": [
       "                 Label  Accuracy  Precision    Recall  F1 Score\n",
       "0  Audio & Electronics  0.986342   0.949807  0.928302  0.938931\n",
       "1     Automotive Tools  0.976953   0.933333  0.891720  0.912052\n",
       "2           Body Parts  0.960734   0.889855  0.850416  0.869688\n",
       "3             Exterior  0.937260   0.896350  0.889855  0.893091\n",
       "4             Interior  0.967990   0.923858  0.889976  0.906600\n",
       "5             Lighting  0.985062   0.924658  0.849057  0.885246\n",
       "6                Parts  0.959880   0.936134  0.908646  0.922185"
      ]
     },
     "execution_count": 84,
     "metadata": {},
     "output_type": "execute_result"
    }
   ],
   "source": [
    "labels = ['Audio & Electronics', 'Automotive Tools', 'Body Parts', 'Exterior', 'Interior', 'Lighting', 'Parts']\n",
    "df_performance = pd.DataFrame(performance_metrics)\n",
    "df_performance.insert(0, 'Label', labels)\n",
    "\n",
    "# Save the dataframe to a CSV file\n",
    "csv_file_path = 'BERT_model_performance.csv'\n",
    "df_performance.to_csv(csv_file_path, index=False)\n",
    "\n",
    "# Display the DataFrame to ensure it matches the uploaded screenshot\n",
    "df_performance\n"
   ]
  },
  {
   "cell_type": "code",
   "execution_count": 85,
   "id": "ac8d6fcb-25ff-492a-b32a-693b74e71820",
   "metadata": {},
   "outputs": [],
   "source": [
    "#flat_true_labels.shape\n",
    "#np.array(y_pred_labels).shape\n",
    "#y_temp = mlb.inverse_transform(flat_true_labels)\n",
    "#y_temp"
   ]
  },
  {
   "cell_type": "markdown",
   "id": "359a41ac-cc09-48ff-a827-ae15eeee860b",
   "metadata": {},
   "source": [
    "### Inference"
   ]
  },
  {
   "cell_type": "code",
   "execution_count": 76,
   "id": "45927dec-1794-4a6e-b462-d584b2e790ed",
   "metadata": {},
   "outputs": [
    {
     "data": {
      "text/plain": [
       "ProductClassifier(\n",
       "  (bert): BertModel(\n",
       "    (embeddings): BertEmbeddings(\n",
       "      (word_embeddings): Embedding(28996, 768, padding_idx=0)\n",
       "      (position_embeddings): Embedding(512, 768)\n",
       "      (token_type_embeddings): Embedding(2, 768)\n",
       "      (LayerNorm): LayerNorm((768,), eps=1e-12, elementwise_affine=True)\n",
       "      (dropout): Dropout(p=0.1, inplace=False)\n",
       "    )\n",
       "    (encoder): BertEncoder(\n",
       "      (layer): ModuleList(\n",
       "        (0-11): 12 x BertLayer(\n",
       "          (attention): BertAttention(\n",
       "            (self): BertSelfAttention(\n",
       "              (query): Linear(in_features=768, out_features=768, bias=True)\n",
       "              (key): Linear(in_features=768, out_features=768, bias=True)\n",
       "              (value): Linear(in_features=768, out_features=768, bias=True)\n",
       "              (dropout): Dropout(p=0.1, inplace=False)\n",
       "            )\n",
       "            (output): BertSelfOutput(\n",
       "              (dense): Linear(in_features=768, out_features=768, bias=True)\n",
       "              (LayerNorm): LayerNorm((768,), eps=1e-12, elementwise_affine=True)\n",
       "              (dropout): Dropout(p=0.1, inplace=False)\n",
       "            )\n",
       "          )\n",
       "          (intermediate): BertIntermediate(\n",
       "            (dense): Linear(in_features=768, out_features=3072, bias=True)\n",
       "            (intermediate_act_fn): GELUActivation()\n",
       "          )\n",
       "          (output): BertOutput(\n",
       "            (dense): Linear(in_features=3072, out_features=768, bias=True)\n",
       "            (LayerNorm): LayerNorm((768,), eps=1e-12, elementwise_affine=True)\n",
       "            (dropout): Dropout(p=0.1, inplace=False)\n",
       "          )\n",
       "        )\n",
       "      )\n",
       "    )\n",
       "    (pooler): BertPooler(\n",
       "      (dense): Linear(in_features=768, out_features=768, bias=True)\n",
       "      (activation): Tanh()\n",
       "    )\n",
       "  )\n",
       "  (classifier): Linear(in_features=768, out_features=7, bias=True)\n",
       "  (criterion): BCEWithLogitsLoss()\n",
       ")"
      ]
     },
     "execution_count": 76,
     "metadata": {},
     "output_type": "execute_result"
    }
   ],
   "source": [
    "# load a model along with its weights, biases and hyperparameters\n",
    "QTmodel = ProductClassifier.load_from_checkpoint(best_model_path)\n",
    "QTmodel.eval()"
   ]
  },
  {
   "cell_type": "code",
   "execution_count": 77,
   "id": "7b9e9369-ff20-4f79-add2-c24feeceb30c",
   "metadata": {},
   "outputs": [],
   "source": [
    "def predict(product, model, device='cpu'):\n",
    "    # Move model to the chosen device\n",
    "    model.to(device)\n",
    "\n",
    "    text_enc = Bert_tokenizer.encode_plus(\n",
    "        product,\n",
    "        add_special_tokens=True,\n",
    "        max_length=MAX_LEN,\n",
    "        padding='max_length',\n",
    "        return_attention_mask=True,\n",
    "        truncation=True,\n",
    "        return_tensors='pt'\n",
    "    )\n",
    "    input_ids = text_enc['input_ids'].to(device)\n",
    "    attention_mask = text_enc['attention_mask'].to(device)\n",
    "\n",
    "    with torch.no_grad():\n",
    "        outputs = model(input_ids, attention_mask)\n",
    "    \n",
    "    pred_out = torch.sigmoid(outputs).to('cpu').numpy()\n",
    "    #print(f'Outputs = {outputs}')\n",
    "    #print(f'Type = {type(outputs)}')\n",
    "    #print(f'Pred Outputs = {pred_out}')\n",
    "    #print(f'Type = {type(pred_out)}')\n",
    "    preds = np.round(pred_out)\n",
    "    preds = (pred_out > opt_thresh)\n",
    "    new_preds = preds.astype(int)\n",
    "    pred_tags = mlb.inverse_transform(new_preds)\n",
    "\n",
    "    return pred_tags\n"
   ]
  },
  {
   "cell_type": "markdown",
   "id": "4a3de0ae-945b-4945-be76-7e1d9ea561fc",
   "metadata": {},
   "source": [
    "### Try the model, give a product name. (Selected Randomly from Amazon website as a benchmark)"
   ]
  },
  {
   "cell_type": "code",
   "execution_count": 79,
   "id": "978a7c3c-d279-4bb3-acaa-65aa8a37eb22",
   "metadata": {},
   "outputs": [
    {
     "name": "stdout",
     "output_type": "stream",
     "text": [
      "Following Tags are associated : \n",
      " [('Parts',)]\n"
     ]
    }
   ],
   "source": [
    "product = \"Power Stop CRK5377 Coated Brake Rotor & Ceramic Brake Pads- front\"\n",
    "\n",
    "tags = predict(product,model)\n",
    "if not tags[0]:\n",
    "    print('This Product can not be associated with any known category - Please review to see if a new category is required ')\n",
    "else:\n",
    "    print(f'Following Tags are associated : \\n {tags}')"
   ]
  },
  {
   "cell_type": "code",
   "execution_count": 80,
   "id": "dbd959bf-2016-40cc-be02-edbec5056c00",
   "metadata": {},
   "outputs": [
    {
     "name": "stdout",
     "output_type": "stream",
     "text": [
      "Following Tags are associated : \n",
      " [('Exterior', 'Lighting')]\n"
     ]
    }
   ],
   "source": [
    "product = \"ACANII - For 2006-2014 Honda Ridgeline Headlights Headlamps Replacement 06-14 Driver + Passenger Side\"\n",
    "\n",
    "tags = predict(product,model)\n",
    "if not tags[0]:\n",
    "    print('This Product can not be associated with any known category - Please review to see if a new category is required ')\n",
    "else:\n",
    "    print(f'Following Tags are associated : \\n {tags}')"
   ]
  }
 ],
 "metadata": {
  "kernelspec": {
   "display_name": "Python 3 (ipykernel)",
   "language": "python",
   "name": "python3"
  },
  "language_info": {
   "codemirror_mode": {
    "name": "ipython",
    "version": 3
   },
   "file_extension": ".py",
   "mimetype": "text/x-python",
   "name": "python",
   "nbconvert_exporter": "python",
   "pygments_lexer": "ipython3",
   "version": "3.11.7"
  }
 },
 "nbformat": 4,
 "nbformat_minor": 5
}
